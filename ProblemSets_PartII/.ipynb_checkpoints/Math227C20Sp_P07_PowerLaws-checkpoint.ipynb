{
 "cells": [
  {
   "cell_type": "markdown",
   "metadata": {},
   "source": [
    "# Math 227C Problem Set 7"
   ]
  },
  {
   "cell_type": "markdown",
   "metadata": {},
   "source": [
    "How does the size of the mitochondria in a cell depend on the size of the cell itself?"
   ]
  },
  {
   "cell_type": "code",
   "execution_count": 4,
   "metadata": {},
   "outputs": [
    {
     "data": {
      "image/png": "[encoded data removed]",
      "text/plain": [
       "plot without title"
      ]
     },
     "metadata": {},
     "output_type": "display_data"
    }
   ],
   "source": [
    "# plot settings\n",
    "options(repr.plot.width=4, repr.plot.height=3)\n",
    "\n",
    "# Simulate power-law data\n",
    "\n",
    "N <- 30\n",
    "alpha <- 2.3\n",
    "Y0 <- 100\n",
    "sigma <- 500\n",
    "\n",
    "CellSize <- runif(N,3,10) # independent variable\n",
    "eps <- rnorm(N,0,sigma) # residuals\n",
    "\n",
    "MitoSize <- Y0*CellSize^alpha + eps\n",
    "\n",
    "plot(CellSize,MitoSize)"
   ]
  },
  {
   "cell_type": "markdown",
   "metadata": {},
   "source": [
    "## Part 1 \n",
    "\n",
    "__(a)__ Use nonlinear least squares (nls) to estimate the parameter $\\alpha$ from the simulated data."
   ]
  },
  {
   "cell_type": "code",
   "execution_count": null,
   "metadata": {},
   "outputs": [],
   "source": []
  },
  {
   "cell_type": "code",
   "execution_count": null,
   "metadata": {},
   "outputs": [],
   "source": []
  },
  {
   "cell_type": "markdown",
   "metadata": {},
   "source": [
    "Define the __error__ as $e=|\\hat{\\alpha}-\\alpha|$ where $\\hat{\\alpha}$ is the estimate and $\\alpha$ is the true value (which is known because this is simulated data). \n",
    "\n",
    "__(b)__ Write a function to execute the simulation and nls fitting, taking in the true model parameters $\\alpha, y_0, \\sigma$ and the sample size $N$. Plot the error in $\\alpha$ estimation, $e$, as a function of the magnitude of the noise, $\\sigma$, for a range of $\\sigma=(100,2000)$. "
   ]
  },
  {
   "cell_type": "code",
   "execution_count": null,
   "metadata": {},
   "outputs": [],
   "source": []
  },
  {
   "cell_type": "markdown",
   "metadata": {},
   "source": [
    "## Part 2\n",
    "\n",
    "__(a)__ Transform the simulated data to $lY = \\mbox{log}(y)$ and $lX = \\mbox{log}(x)$. Use linear regression model fit (lm) to estimate the parameter $\\alpha$ from the simulated data."
   ]
  },
  {
   "cell_type": "code",
   "execution_count": null,
   "metadata": {},
   "outputs": [],
   "source": []
  },
  {
   "cell_type": "markdown",
   "metadata": {},
   "source": [
    "__(b)__ Write a function that executes the simulation, log-transforms the data, and performs linear regression fitting. Plot the error in $\\alpha$ estimation, $e$, as a function of the magnitude of the noise, $\\sigma$, for a range of $\\sigma=(100,2000)$. \n",
    "\n",
    "Note you may need additional code to handle negative measurements.\n",
    "\n",
    "__(c)__ Overplot the error in $\\alpha$ from nls and the error from lm (as functions of $\\sigma$). "
   ]
  },
  {
   "cell_type": "code",
   "execution_count": null,
   "metadata": {},
   "outputs": [],
   "source": []
  },
  {
   "cell_type": "markdown",
   "metadata": {},
   "source": [
    "## Part 3\n",
    "\n",
    "In the above simulations, the independent variable $X$ was chosen from a uniform distribution.\n",
    "\n",
    "__(a)__ Find a distribution of $X$ data that makes a very big difference between error from nls and error from lm.\n",
    "\n",
    "__(b)__ Find a distribution of $X$ data that makes a very small difference between the error from nls and error from lm."
   ]
  },
  {
   "cell_type": "code",
   "execution_count": null,
   "metadata": {},
   "outputs": [],
   "source": []
  }
 ],
 "metadata": {
  "kernelspec": {
   "display_name": "R",
   "language": "R",
   "name": "ir"
  },
  "language_info": {
   "codemirror_mode": "r",
   "file_extension": ".r",
   "mimetype": "text/x-r-source",
   "name": "R",
   "pygments_lexer": "r",
   "version": "3.6.1"
  }
 },
 "nbformat": 4,
 "nbformat_minor": 2
}
